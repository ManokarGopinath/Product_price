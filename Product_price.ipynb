{
  "cells": [
    {
      "cell_type": "markdown",
      "metadata": {
        "id": "gY2HbfJgYMXF"
      },
      "source": [
        "**grainger.com**"
      ]
    },
    {
      "cell_type": "code",
      "execution_count": 45,
      "metadata": {
        "colab": {
          "base_uri": "https://localhost:8080/"
        },
        "id": "_gMBb2ll-tlY",
        "outputId": "5ef32081-f5a2-4145-d0b2-8e0f70a66d67"
      },
      "outputs": [
        {
          "output_type": "stream",
          "name": "stdout",
          "text": [
            "<Response [200]>\n",
            "$5.59\n"
          ]
        }
      ],
      "source": [
        "import requests\n",
        "import random\n",
        "from bs4 import BeautifulSoup\n",
        "user_agent_list = [\n",
        "\t'Mozilla/5.0 (Windows NT 10.0; Win64; x64) AppleWebKit/537.36 (KHTML, like Gecko) Chrome/109.0.0.0 Safari/537.36',\n",
        "\t'Mozilla/5.0 (Macintosh; Intel Mac OS X 10_15_7) AppleWebKit/537.36 (KHTML, like Gecko) Chrome/108.0.0.0 Safari/537.36',\n",
        "\t'Mozilla/5.0 (Macintosh; Intel Mac OS X 13_1) AppleWebKit/605.1.15 (KHTML, like Gecko) Version/16.1 Safari/605.1.15',\n",
        "]\n",
        "user_agent = random.choice(user_agent_list)\n",
        "\n",
        "url='https://www.grainger.com/product/NORTON-Depressed-Center-Grinding-4B168'\n",
        "\n",
        "headers = {'User-Agent': user_agent}\n",
        "status = requests.get(url, headers=headers)\n",
        "print(status)\n",
        "page = requests.get(url, headers=headers).text\n",
        "# print(page)\n",
        "\n",
        "soup = BeautifulSoup(page, 'html.parser')\n",
        "\n",
        "price = soup.find('span', class_='rbqU0E lVwVq5').get_text()\n",
        "\n",
        "print(price)\n"
      ]
    },
    {
      "cell_type": "markdown",
      "source": [
        "**industrialsupplies.com**"
      ],
      "metadata": {
        "id": "UAxmP3fPd0dR"
      }
    },
    {
      "cell_type": "code",
      "execution_count": 46,
      "metadata": {
        "colab": {
          "base_uri": "https://localhost:8080/"
        },
        "id": "UjLdVzKFipVt",
        "outputId": "866ae7b0-6082-489f-d506-c06662436bc2"
      },
      "outputs": [
        {
          "output_type": "stream",
          "name": "stdout",
          "text": [
            "<Response [200]>\n",
            "Product Price: $ 54.21\n"
          ]
        }
      ],
      "source": [
        "import requests\n",
        "import random\n",
        "from bs4 import BeautifulSoup\n",
        "user_agent_list = [\n",
        "\t'Mozilla/5.0 (Windows NT 10.0; Win64; x64) AppleWebKit/537.36 (KHTML, like Gecko) Chrome/109.0.0.0 Safari/537.36',\n",
        "\t'Mozilla/5.0 (Macintosh; Intel Mac OS X 10_15_7) AppleWebKit/537.36 (KHTML, like Gecko) Chrome/108.0.0.0 Safari/537.36',\n",
        "\t'Mozilla/5.0 (Macintosh; Intel Mac OS X 13_1) AppleWebKit/605.1.15 (KHTML, like Gecko) Version/16.1 Safari/605.1.15',\n",
        "\t'Mozilla/5.0 (iPad; CPU OS 5_1 like Mac OS X) AppleWebKit/534.46 (KHTML, like Gecko ) Version/5.1 Mobile/9B176 Safari/7534.48.3',\n",
        "\t'Mozilla/5.0 (iPad; CPU OS 6_0 like Mac OS X) AppleWebKit/536.26 (KHTML, like Gecko) Version/6.0 Mobile/10A5355d Safari/8536.25',\n",
        "\t'Mozilla/5.0 (iPad; U; CPU OS 3_2 like Mac OS X; es-es) AppleWebKit/531.21.10 (KHTML, like Gecko) Version/4.0.4 Mobile/7B360 Safari/531.21.10',\n",
        "\t'Mozilla/5.0 (iPad; U; CPU OS 3_2 like Mac OS X; es-es) AppleWebKit/531.21.10 (KHTML, like Gecko) Version/4.0.4 Mobile/7B367 Safari/531.21.10',\n",
        "\t'Mozilla/5.0 (iPad; U; CPU OS 3_2_2 like Mac OS X; en-us) AppleWebKit/531.21.10 (KHTML, like Gecko) Version/4.0.4 Mobile/7B500 Safari/53',\n",
        "\t'Mozilla/5.0 (iPad;U;CPU OS 3_2_2 like Mac OS X; en-us) AppleWebKit/531.21.10 (KHTML, like Gecko) Version/4.0.4 Mobile/7B500 Safari/531.21.10',\n",
        "\t'Mozilla/5.0 Galeon/1.2.5 (X11; Linux i686; U;) Gecko/20020610 Debian/1.2.5-1',\n",
        "\t'Mozilla/5.0 Galeon/1.2.5 (X11; Linux i686; U;) Gecko/20020623 Debian/1.2.5-0.woody.1',\n",
        "\t'Mozilla/5.0 Galeon/1.2.5 (X11; Linux i686; U;) Gecko/20020809',\n",
        "\t'Mozilla/5.0 Galeon/1.2.6 (X11; Linux i586; U;) Gecko/20020916',\n",
        "\t'Mozilla/5.0 Galeon/1.2.6 (X11; Linux i686; U;) Gecko/20020827',\n",
        "\t'Mozilla/5.0 Galeon/1.2.6 (X11; Linux i686; U;) Gecko/20020830',\n",
        "\t'Mozilla/5.0 Galeon/1.2.6 (X11; Linux i686; U;) Gecko/20020913 Debian/1.2.6-2',\n",
        "\t'Mozilla/5.0 Galeon/1.2.6 (X11; Linux i686; U;) Gecko/20020916',\n",
        "\t'Mozilla/5.0 Galeon/1.2.7 (X11; Linux i686; U;) Gecko/20021226 Debian/1.2.7-6',\n",
        "\t'Mozilla/5.0 Galeon/1.2.8 (X11; Linux i686; U;) Gecko/20030212',\n",
        "]\n",
        "user_agent = random.choice(user_agent_list)\n",
        "\n",
        "url='https://www.industrialsupplies.com/p/janitorial-maintenance/cleaning-tools-supplies/brooms/duo-pan-dustpan-and-lobby-broom-36-black?presentType=1&trackCatKey=301099&trackPrimKey=0&trackType=1&webCatKey=1090'\n",
        "\n",
        "headers = {'User-Agent': user_agent}\n",
        "status = requests.get(url, headers=headers)\n",
        "print(status)\n",
        "page = requests.get(url, headers=headers).text\n",
        "# print(page)\n",
        "\n",
        "soup = BeautifulSoup(page, 'html.parser')\n",
        "\n",
        "price_span = soup.find('span', {'itemprop': 'price'})\n",
        "\n",
        "# Extract the product price\n",
        "currency_symbol = price_span.find_previous('span', {'itemprop': 'priceCurrency'}).get_text(strip=True)\n",
        "product_price = f\"{currency_symbol} {price_span.get_text(strip=True)}\"\n",
        "\n",
        "print(\"Product Price:\", product_price)\n"
      ]
    },
    {
      "cell_type": "markdown",
      "source": [
        "**homedepot.com**"
      ],
      "metadata": {
        "id": "R2zqOQcvsyRZ"
      }
    },
    {
      "cell_type": "code",
      "source": [
        "import requests\n",
        "import random\n",
        "import json\n",
        "from bs4 import BeautifulSoup\n",
        "user_agent_list = [\n",
        "\t'Mozilla/5.0 (Windows NT 10.0; Win64; x64) AppleWebKit/537.36 (KHTML, like Gecko) Chrome/109.0.0.0 Safari/537.36',\n",
        "\t'Mozilla/5.0 (Macintosh; Intel Mac OS X 10_15_7) AppleWebKit/537.36 (KHTML, like Gecko) Chrome/108.0.0.0 Safari/537.36',\n",
        "\t'Mozilla/5.0 (Macintosh; Intel Mac OS X 13_1) AppleWebKit/605.1.15 (KHTML, like Gecko) Version/16.1 Safari/605.1.15',\n",
        "\t'Mozilla/5.0 (iPad; CPU OS 6_0 like Mac OS X) AppleWebKit/536.26 (KHTML, like Gecko) Version/6.0 Mobile/10A5355d Safari/8536.25',\n",
        "\t'Mozilla/5.0 (iPad; U; CPU OS 3_2 like Mac OS X; es-es) AppleWebKit/531.21.10 (KHTML, like Gecko) Version/4.0.4 Mobile/7B360 Safari/531.21.10',\n",
        "\t'Mozilla/5.0 (iPad; U; CPU OS 3_2 like Mac OS X; es-es) AppleWebKit/531.21.10 (KHTML, like Gecko) Version/4.0.4 Mobile/7B367 Safari/531.21.10',\n",
        "\t'Mozilla/5.0 (iPad; U; CPU OS 3_2_2 like Mac OS X; en-us) AppleWebKit/531.21.10 (KHTML, like Gecko) Version/4.0.4 Mobile/7B500 Safari/53',\n",
        "\t'Mozilla/5.0 (iPad;U;CPU OS 3_2_2 like Mac OS X; en-us) AppleWebKit/531.21.10 (KHTML, like Gecko) Version/4.0.4 Mobile/7B500 Safari/531.21.10',\n",
        "\t'Mozilla/5.0 Galeon/1.2.5 (X11; Linux i686; U;) Gecko/20020610 Debian/1.2.5-1',\n",
        "\t'Mozilla/5.0 Galeon/1.2.5 (X11; Linux i686; U;) Gecko/20020623 Debian/1.2.5-0.woody.1',\n",
        "\t'Mozilla/5.0 Galeon/1.2.5 (X11; Linux i686; U;) Gecko/20020809',\n",
        "\t'Mozilla/5.0 Galeon/1.2.6 (X11; Linux i586; U;) Gecko/20020916',\n",
        "\t'Mozilla/5.0 Galeon/1.2.6 (X11; Linux i686; U;) Gecko/20020827',\n",
        "\t'Mozilla/5.0 Galeon/1.2.6 (X11; Linux i686; U;) Gecko/20020830',\n",
        "\t'Mozilla/5.0 Galeon/1.2.6 (X11; Linux i686; U;) Gecko/20020913 Debian/1.2.6-2',\n",
        "\t'Mozilla/5.0 Galeon/1.2.6 (X11; Linux i686; U;) Gecko/20020916',\n",
        "\t'Mozilla/5.0 Galeon/1.2.7 (X11; Linux i686; U;) Gecko/20021226 Debian/1.2.7-6',\n",
        "\t'Mozilla/5.0 Galeon/1.2.8 (X11; Linux i686; U;) Gecko/20030212',\n",
        "]\n",
        "user_agent = random.choice(user_agent_list)\n",
        "\n",
        "url='https://www.homedepot.com/p/DEWALT-MAXFIT-Screwdriving-Set-with-Sleeve-30-Piece-DWAMF30/309474860'\n",
        "headers = {'User-Agent': user_agent}\n",
        "status = requests.get(url, headers=headers)\n",
        "print(status)\n",
        "page = requests.get(url, headers=headers).text\n",
        "# print(page)\n",
        "\n",
        "soup = BeautifulSoup(page, 'html.parser')\n",
        "\n",
        "# price_span = soup.find('script', id=\"thd-helmet__script--productStructureData\")\n",
        "\n",
        "price_element = soup.find('div', class_='price-format__large price-format__main-price')\n",
        "\n",
        "# Extract the price from the element\n",
        "price = price_element.text.strip()\n",
        "\n",
        "print(f\"Product Price: {price}\")"
      ],
      "metadata": {
        "colab": {
          "base_uri": "https://localhost:8080/"
        },
        "id": "xdwlwI-NpY9n",
        "outputId": "159eb2dc-07af-44b7-f649-76396e2af657"
      },
      "execution_count": 8,
      "outputs": [
        {
          "output_type": "stream",
          "name": "stdout",
          "text": [
            "<Response [200]>\n",
            "Product Price: $9.97\n"
          ]
        }
      ]
    },
    {
      "cell_type": "markdown",
      "metadata": {
        "id": "uJ1zZ74yYPzX"
      },
      "source": [
        "**globalindustrial.com**"
      ]
    },
    {
      "cell_type": "code",
      "execution_count": 40,
      "metadata": {
        "colab": {
          "base_uri": "https://localhost:8080/",
          "height": 263
        },
        "id": "lZWCr6UdVktY",
        "outputId": "b7bded5c-d2d6-4656-be12-053fd5c0b908"
      },
      "outputs": [
        {
          "output_type": "stream",
          "name": "stdout",
          "text": [
            "<Response [200]>\n"
          ]
        },
        {
          "output_type": "error",
          "ename": "AttributeError",
          "evalue": "ignored",
          "traceback": [
            "\u001b[0;31m---------------------------------------------------------------------------\u001b[0m",
            "\u001b[0;31mAttributeError\u001b[0m                            Traceback (most recent call last)",
            "\u001b[0;32m<ipython-input-40-3aef14cc2e86>\u001b[0m in \u001b[0;36m<cell line: 38>\u001b[0;34m()\u001b[0m\n\u001b[1;32m     36\u001b[0m \u001b[0;34m\u001b[0m\u001b[0m\n\u001b[1;32m     37\u001b[0m \u001b[0;31m# Extract the text content from the span\u001b[0m\u001b[0;34m\u001b[0m\u001b[0;34m\u001b[0m\u001b[0m\n\u001b[0;32m---> 38\u001b[0;31m \u001b[0mprice\u001b[0m \u001b[0;34m=\u001b[0m \u001b[0mprice_span\u001b[0m\u001b[0;34m.\u001b[0m\u001b[0mtext\u001b[0m\u001b[0;34m.\u001b[0m\u001b[0mstrip\u001b[0m\u001b[0;34m(\u001b[0m\u001b[0;34m)\u001b[0m\u001b[0;34m\u001b[0m\u001b[0;34m\u001b[0m\u001b[0m\n\u001b[0m\u001b[1;32m     39\u001b[0m \u001b[0;34m\u001b[0m\u001b[0m\n\u001b[1;32m     40\u001b[0m \u001b[0mprint\u001b[0m\u001b[0;34m(\u001b[0m\u001b[0mprice\u001b[0m\u001b[0;34m)\u001b[0m\u001b[0;34m\u001b[0m\u001b[0;34m\u001b[0m\u001b[0m\n",
            "\u001b[0;31mAttributeError\u001b[0m: 'NoneType' object has no attribute 'text'"
          ]
        }
      ],
      "source": [
        "import requests\n",
        "import random\n",
        "from bs4 import BeautifulSoup\n",
        "user_agent_list = [\n",
        "\t'Mozilla/5.0 (Windows NT 10.0; Win64; x64) AppleWebKit/537.36 (KHTML, like Gecko) Chrome/109.0.0.0 Safari/537.36',\n",
        "\t'Mozilla/5.0 (Macintosh; Intel Mac OS X 10_15_7) AppleWebKit/537.36 (KHTML, like Gecko) Chrome/108.0.0.0 Safari/537.36',\n",
        "\t'Mozilla/5.0 (Macintosh; Intel Mac OS X 13_1) AppleWebKit/605.1.15 (KHTML, like Gecko) Version/16.1 Safari/605.1.15',\n",
        "\t'Mozilla/5.0 (iPad; CPU OS 6_0 like Mac OS X) AppleWebKit/536.26 (KHTML, like Gecko) Version/6.0 Mobile/10A5355d Safari/8536.25',\n",
        "\t'Mozilla/5.0 (iPad; U; CPU OS 3_2 like Mac OS X; es-es) AppleWebKit/531.21.10 (KHTML, like Gecko) Version/4.0.4 Mobile/7B360 Safari/531.21.10',\n",
        "\t'Mozilla/5.0 (iPad; U; CPU OS 3_2 like Mac OS X; es-es) AppleWebKit/531.21.10 (KHTML, like Gecko) Version/4.0.4 Mobile/7B367 Safari/531.21.10',\n",
        "\t'Mozilla/5.0 (iPad; U; CPU OS 3_2_2 like Mac OS X; en-us) AppleWebKit/531.21.10 (KHTML, like Gecko) Version/4.0.4 Mobile/7B500 Safari/53',\n",
        "\t'Mozilla/5.0 (iPad;U;CPU OS 3_2_2 like Mac OS X; en-us) AppleWebKit/531.21.10 (KHTML, like Gecko) Version/4.0.4 Mobile/7B500 Safari/531.21.10',\n",
        "\t'Mozilla/5.0 Galeon/1.2.5 (X11; Linux i686; U;) Gecko/20020610 Debian/1.2.5-1',\n",
        "\t'Mozilla/5.0 Galeon/1.2.5 (X11; Linux i686; U;) Gecko/20020623 Debian/1.2.5-0.woody.1',\n",
        "\t'Mozilla/5.0 Galeon/1.2.5 (X11; Linux i686; U;) Gecko/20020809',\n",
        "\t'Mozilla/5.0 Galeon/1.2.6 (X11; Linux i586; U;) Gecko/20020916',\n",
        "\t'Mozilla/5.0 Galeon/1.2.6 (X11; Linux i686; U;) Gecko/20020827',\n",
        "\t'Mozilla/5.0 Galeon/1.2.6 (X11; Linux i686; U;) Gecko/20020830',\n",
        "\t'Mozilla/5.0 Galeon/1.2.6 (X11; Linux i686; U;) Gecko/20020913 Debian/1.2.6-2',\n",
        "\t'Mozilla/5.0 Galeon/1.2.6 (X11; Linux i686; U;) Gecko/20020916',\n",
        "\t'Mozilla/5.0 Galeon/1.2.7 (X11; Linux i686; U;) Gecko/20021226 Debian/1.2.7-6',\n",
        "\t'Mozilla/5.0 Galeon/1.2.8 (X11; Linux i686; U;) Gecko/20030212',\n",
        "]\n",
        "user_agent = random.choice(user_agent_list)\n",
        "\n",
        "url='https://www.globalindustrial.com/p/best-value-pallet-truck-pallet-jack-5500-lb-capacity-27-x-48?referer=L2MvY2FydHMtdHJ1Y2tzL3BhbGxldF90cnVja3NfamFja3M%3D&prindex=0&pgkey=28056'\n",
        "headers = {'User-Agent': user_agent}\n",
        "status = requests.get(url, headers=headers)\n",
        "print(status)\n",
        "page = requests.get(url, headers=headers).text\n",
        "# print(page)\n",
        "soup = BeautifulSoup(page, 'html.parser')\n",
        "# Find the span element with the specified class\n",
        "# Find the span with the specified class\n",
        "price_span = soup.find('span', class_='MuiTypography-root MuiTypography-caption')\n",
        "\n",
        "# Extract the text content from the span\n",
        "price = price_span.text.strip()\n",
        "\n",
        "print(price)"
      ]
    }
  ],
  "metadata": {
    "colab": {
      "provenance": [],
      "toc_visible": true
    },
    "kernelspec": {
      "display_name": "Python 3",
      "name": "python3"
    },
    "language_info": {
      "name": "python"
    }
  },
  "nbformat": 4,
  "nbformat_minor": 0
}